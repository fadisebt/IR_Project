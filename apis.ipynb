{
 "cells": [
  {
   "cell_type": "code",
   "execution_count": 3,
   "metadata": {},
   "outputs": [],
   "source": [
    "from flask import Flask, jsonify\n",
    "import trie\n",
    "import trieMake\n",
    "import stringSearch\n",
    "import pandas as pd \n",
    "import inverted_Index as inverted\n",
    "import evaluation\n",
    "\n",
    "data1trie=trieMake.TrieMaker()\n",
    "data2trie=trieMake.TrieMaker()\n",
    "data1trie.buildTre(\"antique_docs\")\n",
    "data2trie.buildTre(\"antique_train_docs\")\n",
    "cleanTrainDoc = pd.read_excel(\"newTrainDoc.xlsx\")\n",
    "trainDoc = pd.read_excel(\"antique_train_docs.xlsx\")\n",
    "trainReverse_index = inverted.invert_dict(cleanTrainDoc)\n",
    "cleanDoc = pd.read_excel(\"newDoc.xlsx\")\n",
    "Doc = pd.read_excel(\"antique_docs.xlsx\")\n",
    "reverse_index = inverted.invert_dict(cleanDoc)"
   ]
  },
  {
   "cell_type": "code",
   "execution_count": 4,
   "metadata": {},
   "outputs": [
    {
     "name": "stdout",
     "output_type": "stream",
     "text": [
      " * Serving Flask app '__main__'\n",
      " * Debug mode: off\n"
     ]
    },
    {
     "name": "stderr",
     "output_type": "stream",
     "text": [
      "WARNING: This is a development server. Do not use it in a production deployment. Use a production WSGI server instead.\n",
      " * Running on http://127.0.0.1:5000\n",
      "Press CTRL+C to quit\n",
      "127.0.0.1 - - [09/Jun/2023 16:54:18] \"GET /train/radar HTTP/1.1\" 404 -\n",
      "127.0.0.1 - - [09/Jun/2023 16:54:46] \"GET /search/train/radar HTTP/1.1\" 200 -\n",
      "127.0.0.1 - - [09/Jun/2023 16:55:15] \"GET /search/train/radar HTTP/1.1\" 200 -\n",
      "127.0.0.1 - - [09/Jun/2023 16:55:50] \"GET /search/train/radar HTTP/1.1\" 200 -\n",
      "127.0.0.1 - - [09/Jun/2023 16:56:10] \"GET /search/train/radar HTTP/1.1\" 200 -\n",
      "127.0.0.1 - - [09/Jun/2023 16:58:06] \"GET /search/train/radar HTTP/1.1\" 200 -\n",
      "127.0.0.1 - - [09/Jun/2023 16:59:07] \"GET /search/test/wrong HTTP/1.1\" 200 -\n",
      "127.0.0.1 - - [09/Jun/2023 16:59:33] \"GET /suggest/test/w HTTP/1.1\" 200 -\n",
      "127.0.0.1 - - [09/Jun/2023 17:00:23] \"GET /suggest/test/wro HTTP/1.1\" 200 -\n",
      "127.0.0.1 - - [09/Jun/2023 17:00:34] \"GET /suggest/test/wron HTTP/1.1\" 200 -\n",
      "127.0.0.1 - - [09/Jun/2023 17:00:49] \"GET /suggest/test/wf HTTP/1.1\" 200 -\n",
      "127.0.0.1 - - [09/Jun/2023 17:01:06] \"GET /suggest/train/wf HTTP/1.1\" 200 -\n",
      "127.0.0.1 - - [09/Jun/2023 17:01:32] \"GET /suggest/train/rad HTTP/1.1\" 200 -\n"
     ]
    }
   ],
   "source": [
    "from flask import json\n",
    "\n",
    "app = Flask(__name__)\n",
    "\n",
    "@app.route(\"/\")\n",
    "def hello():\n",
    "    response = app.response_class(response=json.dumps(\"hello\"),mimetype='application/json')\n",
    "    return response\n",
    "\n",
    "@app.route(\"/search/<dataset>/<Query>\")\n",
    "def search(dataset,Query):\n",
    "    res=[]\n",
    "    if dataset==\"test\":\n",
    "        res=stringSearch.search_data(reverse_index,cleanDoc,Doc,[Query])\n",
    "    else:\n",
    "        res=stringSearch.search_data(trainReverse_index,cleanTrainDoc,trainDoc,[Query])\n",
    "    response = app.response_class(response=json.dumps(res),mimetype='application/json')\n",
    "    return response\n",
    "\n",
    "\n",
    "@app.route(\"/suggest/<dataset>/<word>\")\n",
    "def suggest(dataset,word):\n",
    "    if dataset==\"test\":\n",
    "        data = {\"res\":data1trie.serch_word(word)}\n",
    "        response = app.response_class(response=json.dumps(data),mimetype='application/json')\n",
    "        return response\n",
    "        # return jsonify({\"res\":data1trie.serch_word(word)})\n",
    "    else:\n",
    "        data = {\"res\":data2trie.serch_word(word)}\n",
    "        response = app.response_class(response=json.dumps(data),mimetype='application/json')\n",
    "    return response\n",
    "\n",
    "\n",
    "if __name__ == \"__main__\":\n",
    "    # app.run(host='192.168.43.127', port=8080)\n",
    "    app.run()"
   ]
  },
  {
   "cell_type": "code",
   "execution_count": null,
   "metadata": {},
   "outputs": [],
   "source": []
  }
 ],
 "metadata": {
  "kernelspec": {
   "display_name": "base",
   "language": "python",
   "name": "python3"
  },
  "language_info": {
   "codemirror_mode": {
    "name": "ipython",
    "version": 3
   },
   "file_extension": ".py",
   "mimetype": "text/x-python",
   "name": "python",
   "nbconvert_exporter": "python",
   "pygments_lexer": "ipython3",
   "version": "3.10.9"
  },
  "orig_nbformat": 4
 },
 "nbformat": 4,
 "nbformat_minor": 2
}
