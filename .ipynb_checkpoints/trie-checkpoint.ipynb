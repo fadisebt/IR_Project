{
 "cells": [
  {
   "cell_type": "code",
   "execution_count": 20,
   "id": "aad31f6a",
   "metadata": {},
   "outputs": [],
   "source": [
    "class TrieNode:\n",
    "    def __init__(self, text = ''):\n",
    "        self.text = text\n",
    "        self.ids=[]\n",
    "        self.children = dict()\n",
    "        self.is_word = False # New code\n",
    "\n",
    "class PrefixTree:\n",
    "    def __init__(self):\n",
    "        self.root = TrieNode()\n",
    "    def insert(self, word,wordId):\n",
    "        current = self.root\n",
    "        for i, char in enumerate(word):\n",
    "            if char not in current.children:\n",
    "                prefix = word[0:i+1]\n",
    "                current.children[char] = TrieNode(prefix)\n",
    "            current = current.children[char]\n",
    "        current.is_word = True # New code\n",
    "        current.ids.append(wordId)\n",
    "    \n",
    "    def find(self, word):\n",
    "        '''\n",
    "        Returns the TrieNode representing the given word if it exists\n",
    "        and None otherwise.\n",
    "        '''\n",
    "        current = self.root\n",
    "        for char in word:\n",
    "            if char not in current.children:\n",
    "                return None\n",
    "            current = current.children[char]\n",
    "\n",
    "    # New code, None returned implicitly if this is False\n",
    "        if current.is_word:\n",
    "            return current\n",
    "        \n",
    "    def __child_words_for(self, node, words):\n",
    "        '''\n",
    "        Private helper function. Cycles through all children\n",
    "        of node recursively, adding them to words if they\n",
    "        constitute whole words (as opposed to merely prefixes).\n",
    "        '''\n",
    "        if node.is_word:\n",
    "            words.append(node.ids)\n",
    "        for letter in node.children:\n",
    "            self.__child_words_for(node.children[letter], words)\n",
    "\n",
    "    def starts_with(self, prefix):\n",
    "        '''\n",
    "        Returns a list of all words beginning with the given prefix, or\n",
    "        an empty list if no words begin with that prefix.\n",
    "        '''\n",
    "        words = list()\n",
    "        current = self.root\n",
    "        for char in prefix:\n",
    "            if char not in current.children:\n",
    "                # Could also just return words since it's empty by default\n",
    "                return list()\n",
    "            current = current.children[char]\n",
    "\n",
    "    # Step 2\n",
    "        self.__child_words_for(current, words)\n",
    "        return words\n",
    "\n",
    "    \n",
    "\n"
   ]
  },
  {
   "cell_type": "code",
   "execution_count": 25,
   "id": "bb7c67f1",
   "metadata": {},
   "outputs": [
    {
     "name": "stdout",
     "output_type": "stream",
     "text": [
      "[['d', 9]]\n"
     ]
    }
   ],
   "source": [
    "if __name__ == '__main__':\n",
    "    trie = PrefixTree()\n",
    "    trie.insert('apple',\"d\")\n",
    "    trie.insert('apple',9)\n",
    "    trie.insert('app',2)\n",
    "    trie.insert('aposematic',3)\n",
    "    trie.insert('appreciate',4)\n",
    "    trie.insert('book',5)\n",
    "    trie.insert('bad',6)\n",
    "    trie.insert('bear',7)\n",
    "    trie.insert('bat',8)\n",
    "    print(trie.starts_with('apple'))\n"
   ]
  },
  {
   "cell_type": "code",
   "execution_count": null,
   "id": "a5778ecd",
   "metadata": {},
   "outputs": [],
   "source": []
  },
  {
   "cell_type": "code",
   "execution_count": null,
   "id": "2607ff6f",
   "metadata": {},
   "outputs": [],
   "source": []
  },
  {
   "cell_type": "code",
   "execution_count": null,
   "id": "8909d0ae",
   "metadata": {},
   "outputs": [],
   "source": []
  },
  {
   "cell_type": "code",
   "execution_count": null,
   "id": "5f9d3dcf",
   "metadata": {},
   "outputs": [],
   "source": []
  },
  {
   "cell_type": "code",
   "execution_count": null,
   "id": "4094aac9",
   "metadata": {},
   "outputs": [],
   "source": []
  },
  {
   "cell_type": "code",
   "execution_count": null,
   "id": "39b1af2c",
   "metadata": {},
   "outputs": [],
   "source": []
  }
 ],
 "metadata": {
  "kernelspec": {
   "display_name": "Python 3 (ipykernel)",
   "language": "python",
   "name": "python3"
  },
  "language_info": {
   "codemirror_mode": {
    "name": "ipython",
    "version": 3
   },
   "file_extension": ".py",
   "mimetype": "text/x-python",
   "name": "python",
   "nbconvert_exporter": "python",
   "pygments_lexer": "ipython3",
   "version": "3.10.9"
  }
 },
 "nbformat": 4,
 "nbformat_minor": 5
}
