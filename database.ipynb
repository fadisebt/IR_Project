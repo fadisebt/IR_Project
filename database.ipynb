{
 "cells": [
  {
   "cell_type": "code",
   "execution_count": 1,
   "metadata": {},
   "outputs": [
    {
     "name": "stderr",
     "output_type": "stream",
     "text": [
      "[INFO] Please confirm you agree to the authors' data usage agreement found at <https://ciir.cs.umass.edu/downloads/Antique/readme.txt>\n",
      "[INFO] [starting] https://ciir.cs.umass.edu/downloads/Antique/antique-train-queries.txt\n",
      "[INFO] [finished] https://ciir.cs.umass.edu/downloads/Antique/antique-train-queries.txt: [00:01] [137kB] [123kB/s]\n",
      "[INFO] [starting] https://ciir.cs.umass.edu/downloads/Antique/antique-train.qrel                \n",
      "[INFO] [finished] https://ciir.cs.umass.edu/downloads/Antique/antique-train.qrel: [00:01] [626kB] [435kB/s]\n",
      "                                                                                         \r"
     ]
    }
   ],
   "source": [
    "import pandas as pd\n",
    "import ir_datasets\n",
    "\n",
    "dataset = ir_datasets.load(\"antique/train\")\n",
    "que=[]\n",
    "for query in dataset.queries_iter():\n",
    "    que.append(query)\n",
    "\n",
    "df = pd.DataFrame(que, columns=[\"query_id\",\"Text\"])\n",
    "df.to_excel(\"antique_train_que.xlsx\",index=False)\n",
    "docs = []\n",
    "for doc in dataset.docs_iter():\n",
    "    docs.append(doc)\n",
    "\n",
    "df = pd.DataFrame(docs, columns=[\"doc_id\",\"Text\"])\n",
    "df.to_excel(\"antique_train_docs.xlsx\",index=False)\n",
    "\n",
    "\n",
    "df =pd.DataFrame(dataset.qrels_iter(), columns=[\"query_id\",\"doc_id\",\"relevance\",\"iteration\"])\n",
    "df.to_excel(\"antique_train_qrels.xlsx\",index=False)\n"
   ]
  }
 ],
 "metadata": {
  "kernelspec": {
   "display_name": "base",
   "language": "python",
   "name": "python3"
  },
  "language_info": {
   "codemirror_mode": {
    "name": "ipython",
    "version": 3
   },
   "file_extension": ".py",
   "mimetype": "text/x-python",
   "name": "python",
   "nbconvert_exporter": "python",
   "pygments_lexer": "ipython3",
   "version": "3.10.9"
  },
  "orig_nbformat": 4
 },
 "nbformat": 4,
 "nbformat_minor": 2
}
